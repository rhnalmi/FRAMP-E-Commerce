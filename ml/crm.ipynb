{
  "cells": [
    {
      "cell_type": "code",
      "execution_count": 1,
      "metadata": {
        "id": "zZhUMvwaLm3r"
      },
      "outputs": [],
      "source": [
        "import pandas as pd\n",
        "import numpy as np\n",
        "from sklearn.model_selection import train_test_split\n",
        "from sklearn.preprocessing import OneHotEncoder, StandardScaler\n",
        "from sklearn.compose import ColumnTransformer\n",
        "from sklearn.pipeline import Pipeline\n",
        "from sklearn.linear_model import LinearRegression\n",
        "from sklearn.metrics import mean_squared_error\n",
        "import joblib"
      ]
    },
    {
      "cell_type": "markdown",
      "metadata": {
        "id": "Z700jouSSq49"
      },
      "source": [
        "# Import Dataset"
      ]
    },
    {
      "cell_type": "code",
      "execution_count": 5,
      "metadata": {
        "collapsed": true,
        "id": "syyvwm70LumC"
      },
      "outputs": [],
      "source": [
        "df = pd.read_csv('wedding_souvenirs_improved.csv')\n",
        "\n",
        "X = df.iloc[:, :-1].values\n",
        "y = df.iloc[:, -1].values"
      ]
    },
    {
      "cell_type": "code",
      "execution_count": 11,
      "metadata": {},
      "outputs": [
        {
          "name": "stdout",
          "output_type": "stream",
          "text": [
            "['Wedding Candle' 'Wax' 588 17.03867428120558]\n"
          ]
        }
      ],
      "source": [
        "print(X[0])"
      ]
    },
    {
      "cell_type": "code",
      "execution_count": 12,
      "metadata": {},
      "outputs": [
        {
          "name": "stdout",
          "output_type": "stream",
          "text": [
            "{'Wedding Candle': 'Wax', 'Custom Mug': 'Ceramic', 'Photo Frame': 'Wood', 'Custom Keychain': 'Engraving', 'Custom Coaster': 'Sealant'}\n"
          ]
        }
      ],
      "source": [
        "products = {}\n",
        "\n",
        "for item in X:\n",
        "    product_name, raw_material, _, _ = item  # Unpack the values from the list\n",
        "    if product_name not in products:\n",
        "        products[product_name] = raw_material\n",
        "\n",
        "print(products)"
      ]
    },
    {
      "cell_type": "markdown",
      "metadata": {
        "id": "bo4xbPjoS05q"
      },
      "source": [
        "# Encode independent variable"
      ]
    },
    {
      "cell_type": "code",
      "execution_count": 3,
      "metadata": {
        "collapsed": true,
        "id": "8Dk9v7ZXSTZJ"
      },
      "outputs": [],
      "source": [
        "categorical_columns = [0, 1]\n",
        "\n",
        "# Column transformer to handle encoding and scaling\n",
        "preprocessor = ColumnTransformer(\n",
        "    transformers=[\n",
        "        ('cat', OneHotEncoder(handle_unknown='ignore'), categorical_columns),\n",
        "        ('num', StandardScaler(), slice(len(categorical_columns), X.shape[1]))\n",
        "    ]\n",
        ")"
      ]
    },
    {
      "cell_type": "markdown",
      "metadata": {
        "id": "lyPWjWXCWwpw"
      },
      "source": [
        "# Create Pipeline"
      ]
    },
    {
      "cell_type": "code",
      "execution_count": 4,
      "metadata": {
        "id": "dgrpi-OgWyX5"
      },
      "outputs": [],
      "source": [
        "pipeline = Pipeline(steps=[\n",
        "    ('preprocessor', preprocessor),\n",
        "    ('regressor', LinearRegression())\n",
        "])"
      ]
    },
    {
      "cell_type": "markdown",
      "metadata": {
        "id": "4imlErHzURzR"
      },
      "source": [
        "# Train dataset"
      ]
    },
    {
      "cell_type": "code",
      "execution_count": 5,
      "metadata": {
        "id": "7wIVgqJRUUN5"
      },
      "outputs": [],
      "source": [
        "X_train, X_test, y_train, y_test = train_test_split(X, y, test_size=0.25, random_state=1)"
      ]
    },
    {
      "cell_type": "markdown",
      "metadata": {
        "id": "86yPeFbbXDwM"
      },
      "source": [
        "# Train the model"
      ]
    },
    {
      "cell_type": "code",
      "execution_count": 7,
      "metadata": {
        "collapsed": true,
        "id": "uhgrc7eWTugc"
      },
      "outputs": [
        {
          "data": {
            "text/plain": [
              "['pipeline.pkl']"
            ]
          },
          "execution_count": 7,
          "metadata": {},
          "output_type": "execute_result"
        }
      ],
      "source": [
        "pipeline.fit(X_train, y_train)\n",
        "y_pred = pipeline.predict(X_test)\n",
        "\n",
        "joblib.dump(pipeline, 'pipeline.pkl')"
      ]
    },
    {
      "cell_type": "markdown",
      "metadata": {
        "id": "qHX2NuSfdqyn"
      },
      "source": [
        "# Check Accuracy"
      ]
    },
    {
      "cell_type": "code",
      "execution_count": 8,
      "metadata": {
        "colab": {
          "base_uri": "https://localhost:8080/"
        },
        "id": "vfB-iCnPeHd7",
        "outputId": "4557da39-b057-48fd-88cc-4159b941b8e0"
      },
      "outputs": [
        {
          "name": "stdout",
          "output_type": "stream",
          "text": [
            "Mean Absolute Error (MAE): 0.25\n",
            "Mean Squared Error (MSE): 0.09\n",
            "Root Mean Squared Error (RMSE): 0.30\n",
            "R² Score: 0.9999127248573584\n"
          ]
        }
      ],
      "source": [
        "from sklearn.metrics import mean_absolute_error, mean_squared_error, r2_score\n",
        "\n",
        "\n",
        "mae = mean_absolute_error(y_test, y_pred)\n",
        "mse = mean_squared_error(y_test, y_pred)\n",
        "rmse = np.sqrt(mse)\n",
        "r2 = r2_score(y_test, y_pred)\n",
        "\n",
        "# Print the evaluation results\n",
        "print(f\"Mean Absolute Error (MAE): %.2f\" %mae)\n",
        "print(f\"Mean Squared Error (MSE): %.2f\" %mse)\n",
        "print(f\"Root Mean Squared Error (RMSE): %.2f\" % rmse)\n",
        "print(\"R² Score: \" + str(r2))\n"
      ]
    },
    {
      "cell_type": "markdown",
      "metadata": {
        "id": "q14PPFIniDcU"
      },
      "source": [
        "# Predict A Product"
      ]
    },
    {
      "cell_type": "code",
      "execution_count": 4,
      "metadata": {
        "colab": {
          "base_uri": "https://localhost:8080/"
        },
        "id": "BpMxxSPHiDK7",
        "outputId": "1f41822e-457b-40df-fd30-75538fcb30ff"
      },
      "outputs": [
        {
          "ename": "ImportError",
          "evalue": "cannot import name 'joblib' from 'sklearn.externals' (c:\\Python311\\Lib\\site-packages\\sklearn\\externals\\__init__.py)",
          "output_type": "error",
          "traceback": [
            "\u001b[1;31m---------------------------------------------------------------------------\u001b[0m",
            "\u001b[1;31mImportError\u001b[0m                               Traceback (most recent call last)",
            "Cell \u001b[1;32mIn[4], line 5\u001b[0m\n\u001b[0;32m      3\u001b[0m \u001b[38;5;28;01mimport\u001b[39;00m \u001b[38;5;21;01mpandas\u001b[39;00m \u001b[38;5;28;01mas\u001b[39;00m \u001b[38;5;21;01mpd\u001b[39;00m\n\u001b[0;32m      4\u001b[0m \u001b[38;5;28;01mimport\u001b[39;00m \u001b[38;5;21;01mnumpy\u001b[39;00m \u001b[38;5;28;01mas\u001b[39;00m \u001b[38;5;21;01mnp\u001b[39;00m\n\u001b[1;32m----> 5\u001b[0m \u001b[38;5;28;01mfrom\u001b[39;00m \u001b[38;5;21;01msklearn\u001b[39;00m\u001b[38;5;21;01m.\u001b[39;00m\u001b[38;5;21;01mexternals\u001b[39;00m \u001b[38;5;28;01mimport\u001b[39;00m joblib\n\u001b[0;32m      6\u001b[0m \u001b[38;5;28;01mimport\u001b[39;00m \u001b[38;5;21;01mmath\u001b[39;00m\n\u001b[0;32m      8\u001b[0m pipeline \u001b[38;5;241m=\u001b[39m joblib\u001b[38;5;241m.\u001b[39mload(\u001b[38;5;124m'\u001b[39m\u001b[38;5;124mpipeline.pkl\u001b[39m\u001b[38;5;124m'\u001b[39m)\n",
            "\u001b[1;31mImportError\u001b[0m: cannot import name 'joblib' from 'sklearn.externals' (c:\\Python311\\Lib\\site-packages\\sklearn\\externals\\__init__.py)"
          ]
        }
      ],
      "source": [
        "import sys\n",
        "import json\n",
        "import pandas as pd\n",
        "from joblib import load\n",
        "\n",
        "try:\n",
        "    pipeline = load('pipeline.pkl')\n",
        "    input_data = json.loads(sys.argv[1])\n",
        "\n",
        "    custom_data = pd.DataFrame({\n",
        "        'Product Name': [input_data['product_name']],\n",
        "        'Raw Material Name': [input_data['raw_material_name']],\n",
        "        'Raw Material Amount': [input_data['raw_material_amount']],\n",
        "        'Labor Hours': [input_data['labor_hours']],\n",
        "    })\n",
        "\n",
        "    prediction = pipeline.predict(custom_data)\n",
        "    \n",
        "    result = {'predicted_products_made': prediction[0]}\n",
        "    print(json.dumps(result))\n",
        "\n",
        "except Exception as e:\n",
        "    print(json.dumps({'error': str(e)}), file=sys.stderr)\n",
        "    sys.exit(1)"
      ]
    }
  ],
  "metadata": {
    "colab": {
      "provenance": []
    },
    "kernelspec": {
      "display_name": "Python 3",
      "name": "python3"
    },
    "language_info": {
      "codemirror_mode": {
        "name": "ipython",
        "version": 3
      },
      "file_extension": ".py",
      "mimetype": "text/x-python",
      "name": "python",
      "nbconvert_exporter": "python",
      "pygments_lexer": "ipython3",
      "version": "3.11.0"
    }
  },
  "nbformat": 4,
  "nbformat_minor": 0
}
